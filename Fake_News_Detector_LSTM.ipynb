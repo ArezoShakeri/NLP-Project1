{
  "nbformat": 4,
  "nbformat_minor": 0,
  "metadata": {
    "colab": {
      "provenance": [],
      "include_colab_link": true
    },
    "kernelspec": {
      "name": "python3",
      "display_name": "Python 3"
    },
    "accelerator": "GPU"
  },
  "cells": [
    {
      "cell_type": "markdown",
      "metadata": {
        "id": "view-in-github",
        "colab_type": "text"
      },
      "source": [
        "<a href=\"https://colab.research.google.com/github/ArezoShakeri/NLP-Project1/blob/main/Fake_News_Detector_LSTM.ipynb\" target=\"_parent\"><img src=\"https://colab.research.google.com/assets/colab-badge.svg\" alt=\"Open In Colab\"/></a>"
      ]
    },
    {
      "cell_type": "markdown",
      "metadata": {
        "id": "62M0HuCsCy2F"
      },
      "source": [
        "# <font color='#badc58'> Fake News Detector with LSTM |<br> </font>  \n",
        "# <font color='#3dc1d3'>  \n",
        "1.  Preprocess data\n",
        "2.  one_hot encoding\n",
        "3.  creating LSTM model\n",
        "4.  observe the alteration in shape, flattening and then re-shaping - changes from embedding to flattening - to - dense layer <br>\n",
        "5. Observe the total weight matrix size of the LSTM - mathematical verification\n",
        "\n",
        "## <font color='#f9ca24'> LSTM \n",
        " <font color='00BFEB'>training on some training data; joins these two steps and is used for the initial fitting of parameters on the training set 𝑥, while also returning the transformed 𝑥′. Internally, the transformer object just calls first fit() and then transform() on the same data.<br>In the output, you will see (20000, 5) which means that each of the document has 5 columns where each column corresponds to the probability value of a particular topic. "
      ]
    },
    {
      "cell_type": "code",
      "metadata": {
        "id": "VJuHztF_mRyy",
        "colab": {
          "base_uri": "https://localhost:8080/"
        },
        "outputId": "bc6d4c16-aff8-4735-aaba-ca6ecccd485f"
      },
      "source": [
        "import re\n",
        "import pandas as pd\n",
        "import nltk\n",
        "import numpy as np\n",
        "import tensorflow as tf\n",
        "from tensorflow.keras.layers import Embedding, Dense, LSTM, Dropout \n",
        "from tensorflow.keras.models import Sequential\n",
        "from tensorflow.keras.utils import plot_model\n",
        "from tensorflow.keras.preprocessing.text import one_hot\n",
        "from tensorflow.keras.preprocessing.sequence import pad_sequences \n",
        "from sklearn.metrics import classification_report \n",
        "from nltk.stem import WordNetLemmatizer \n",
        "from nltk.corpus import stopwords\n",
        "nltk.download('stopwords')\n",
        "nltk.download('wordnet')\n"
      ],
      "execution_count": 1,
      "outputs": [
        {
          "output_type": "stream",
          "name": "stderr",
          "text": [
            "[nltk_data] Downloading package stopwords to /root/nltk_data...\n",
            "[nltk_data]   Unzipping corpora/stopwords.zip.\n",
            "[nltk_data] Downloading package wordnet to /root/nltk_data...\n"
          ]
        },
        {
          "output_type": "execute_result",
          "data": {
            "text/plain": [
              "True"
            ]
          },
          "metadata": {},
          "execution_count": 1
        }
      ]
    },
    {
      "cell_type": "code",
      "metadata": {
        "id": "ZhOZn_gAp9D_",
        "colab": {
          "base_uri": "https://localhost:8080/",
          "height": 73
        },
        "outputId": "4cbf669b-614f-4243-8c2b-28b21de0c159"
      },
      "source": [
        "from google.colab import files\n",
        "upload = files.upload()"
      ],
      "execution_count": 2,
      "outputs": [
        {
          "output_type": "display_data",
          "data": {
            "text/plain": [
              "<IPython.core.display.HTML object>"
            ],
            "text/html": [
              "\n",
              "     <input type=\"file\" id=\"files-d97088fd-f151-45ee-9a06-c2437018cbb5\" name=\"files[]\" multiple disabled\n",
              "        style=\"border:none\" />\n",
              "     <output id=\"result-d97088fd-f151-45ee-9a06-c2437018cbb5\">\n",
              "      Upload widget is only available when the cell has been executed in the\n",
              "      current browser session. Please rerun this cell to enable.\n",
              "      </output>\n",
              "      <script>// Copyright 2017 Google LLC\n",
              "//\n",
              "// Licensed under the Apache License, Version 2.0 (the \"License\");\n",
              "// you may not use this file except in compliance with the License.\n",
              "// You may obtain a copy of the License at\n",
              "//\n",
              "//      http://www.apache.org/licenses/LICENSE-2.0\n",
              "//\n",
              "// Unless required by applicable law or agreed to in writing, software\n",
              "// distributed under the License is distributed on an \"AS IS\" BASIS,\n",
              "// WITHOUT WARRANTIES OR CONDITIONS OF ANY KIND, either express or implied.\n",
              "// See the License for the specific language governing permissions and\n",
              "// limitations under the License.\n",
              "\n",
              "/**\n",
              " * @fileoverview Helpers for google.colab Python module.\n",
              " */\n",
              "(function(scope) {\n",
              "function span(text, styleAttributes = {}) {\n",
              "  const element = document.createElement('span');\n",
              "  element.textContent = text;\n",
              "  for (const key of Object.keys(styleAttributes)) {\n",
              "    element.style[key] = styleAttributes[key];\n",
              "  }\n",
              "  return element;\n",
              "}\n",
              "\n",
              "// Max number of bytes which will be uploaded at a time.\n",
              "const MAX_PAYLOAD_SIZE = 100 * 1024;\n",
              "\n",
              "function _uploadFiles(inputId, outputId) {\n",
              "  const steps = uploadFilesStep(inputId, outputId);\n",
              "  const outputElement = document.getElementById(outputId);\n",
              "  // Cache steps on the outputElement to make it available for the next call\n",
              "  // to uploadFilesContinue from Python.\n",
              "  outputElement.steps = steps;\n",
              "\n",
              "  return _uploadFilesContinue(outputId);\n",
              "}\n",
              "\n",
              "// This is roughly an async generator (not supported in the browser yet),\n",
              "// where there are multiple asynchronous steps and the Python side is going\n",
              "// to poll for completion of each step.\n",
              "// This uses a Promise to block the python side on completion of each step,\n",
              "// then passes the result of the previous step as the input to the next step.\n",
              "function _uploadFilesContinue(outputId) {\n",
              "  const outputElement = document.getElementById(outputId);\n",
              "  const steps = outputElement.steps;\n",
              "\n",
              "  const next = steps.next(outputElement.lastPromiseValue);\n",
              "  return Promise.resolve(next.value.promise).then((value) => {\n",
              "    // Cache the last promise value to make it available to the next\n",
              "    // step of the generator.\n",
              "    outputElement.lastPromiseValue = value;\n",
              "    return next.value.response;\n",
              "  });\n",
              "}\n",
              "\n",
              "/**\n",
              " * Generator function which is called between each async step of the upload\n",
              " * process.\n",
              " * @param {string} inputId Element ID of the input file picker element.\n",
              " * @param {string} outputId Element ID of the output display.\n",
              " * @return {!Iterable<!Object>} Iterable of next steps.\n",
              " */\n",
              "function* uploadFilesStep(inputId, outputId) {\n",
              "  const inputElement = document.getElementById(inputId);\n",
              "  inputElement.disabled = false;\n",
              "\n",
              "  const outputElement = document.getElementById(outputId);\n",
              "  outputElement.innerHTML = '';\n",
              "\n",
              "  const pickedPromise = new Promise((resolve) => {\n",
              "    inputElement.addEventListener('change', (e) => {\n",
              "      resolve(e.target.files);\n",
              "    });\n",
              "  });\n",
              "\n",
              "  const cancel = document.createElement('button');\n",
              "  inputElement.parentElement.appendChild(cancel);\n",
              "  cancel.textContent = 'Cancel upload';\n",
              "  const cancelPromise = new Promise((resolve) => {\n",
              "    cancel.onclick = () => {\n",
              "      resolve(null);\n",
              "    };\n",
              "  });\n",
              "\n",
              "  // Wait for the user to pick the files.\n",
              "  const files = yield {\n",
              "    promise: Promise.race([pickedPromise, cancelPromise]),\n",
              "    response: {\n",
              "      action: 'starting',\n",
              "    }\n",
              "  };\n",
              "\n",
              "  cancel.remove();\n",
              "\n",
              "  // Disable the input element since further picks are not allowed.\n",
              "  inputElement.disabled = true;\n",
              "\n",
              "  if (!files) {\n",
              "    return {\n",
              "      response: {\n",
              "        action: 'complete',\n",
              "      }\n",
              "    };\n",
              "  }\n",
              "\n",
              "  for (const file of files) {\n",
              "    const li = document.createElement('li');\n",
              "    li.append(span(file.name, {fontWeight: 'bold'}));\n",
              "    li.append(span(\n",
              "        `(${file.type || 'n/a'}) - ${file.size} bytes, ` +\n",
              "        `last modified: ${\n",
              "            file.lastModifiedDate ? file.lastModifiedDate.toLocaleDateString() :\n",
              "                                    'n/a'} - `));\n",
              "    const percent = span('0% done');\n",
              "    li.appendChild(percent);\n",
              "\n",
              "    outputElement.appendChild(li);\n",
              "\n",
              "    const fileDataPromise = new Promise((resolve) => {\n",
              "      const reader = new FileReader();\n",
              "      reader.onload = (e) => {\n",
              "        resolve(e.target.result);\n",
              "      };\n",
              "      reader.readAsArrayBuffer(file);\n",
              "    });\n",
              "    // Wait for the data to be ready.\n",
              "    let fileData = yield {\n",
              "      promise: fileDataPromise,\n",
              "      response: {\n",
              "        action: 'continue',\n",
              "      }\n",
              "    };\n",
              "\n",
              "    // Use a chunked sending to avoid message size limits. See b/62115660.\n",
              "    let position = 0;\n",
              "    do {\n",
              "      const length = Math.min(fileData.byteLength - position, MAX_PAYLOAD_SIZE);\n",
              "      const chunk = new Uint8Array(fileData, position, length);\n",
              "      position += length;\n",
              "\n",
              "      const base64 = btoa(String.fromCharCode.apply(null, chunk));\n",
              "      yield {\n",
              "        response: {\n",
              "          action: 'append',\n",
              "          file: file.name,\n",
              "          data: base64,\n",
              "        },\n",
              "      };\n",
              "\n",
              "      let percentDone = fileData.byteLength === 0 ?\n",
              "          100 :\n",
              "          Math.round((position / fileData.byteLength) * 100);\n",
              "      percent.textContent = `${percentDone}% done`;\n",
              "\n",
              "    } while (position < fileData.byteLength);\n",
              "  }\n",
              "\n",
              "  // All done.\n",
              "  yield {\n",
              "    response: {\n",
              "      action: 'complete',\n",
              "    }\n",
              "  };\n",
              "}\n",
              "\n",
              "scope.google = scope.google || {};\n",
              "scope.google.colab = scope.google.colab || {};\n",
              "scope.google.colab._files = {\n",
              "  _uploadFiles,\n",
              "  _uploadFilesContinue,\n",
              "};\n",
              "})(self);\n",
              "</script> "
            ]
          },
          "metadata": {}
        },
        {
          "output_type": "stream",
          "name": "stdout",
          "text": [
            "Saving fakenews.zip to fakenews.zip\n"
          ]
        }
      ]
    },
    {
      "cell_type": "code",
      "metadata": {
        "id": "4cCmnOf3sg_Y",
        "colab": {
          "base_uri": "https://localhost:8080/"
        },
        "outputId": "bbc454b5-2a21-4e28-cd3c-b51df5a40f8f"
      },
      "source": [
        "!unzip fakenews"
      ],
      "execution_count": 3,
      "outputs": [
        {
          "output_type": "stream",
          "name": "stdout",
          "text": [
            "Archive:  fakenews.zip\n",
            "  inflating: train.csv               \n"
          ]
        }
      ]
    },
    {
      "cell_type": "code",
      "metadata": {
        "id": "Ufa40yY4ZtgP",
        "colab": {
          "base_uri": "https://localhost:8080/",
          "height": 206
        },
        "outputId": "2547319d-077f-4f05-849d-e718d25b4a49"
      },
      "source": [
        "df = pd.read_csv(\"train.csv\")\n",
        "df.head()"
      ],
      "execution_count": 4,
      "outputs": [
        {
          "output_type": "execute_result",
          "data": {
            "text/plain": [
              "   id                                              title              author  \\\n",
              "0   0  House Dem Aide: We Didn’t Even See Comey’s Let...       Darrell Lucus   \n",
              "1   1  FLYNN: Hillary Clinton, Big Woman on Campus - ...     Daniel J. Flynn   \n",
              "2   2                  Why the Truth Might Get You Fired  Consortiumnews.com   \n",
              "3   3  15 Civilians Killed In Single US Airstrike Hav...     Jessica Purkiss   \n",
              "4   4  Iranian woman jailed for fictional unpublished...      Howard Portnoy   \n",
              "\n",
              "                                                text  label  \n",
              "0  House Dem Aide: We Didn’t Even See Comey’s Let...      1  \n",
              "1  Ever get the feeling your life circles the rou...      0  \n",
              "2  Why the Truth Might Get You Fired October 29, ...      1  \n",
              "3  Videos 15 Civilians Killed In Single US Airstr...      1  \n",
              "4  Print \\nAn Iranian woman has been sentenced to...      1  "
            ],
            "text/html": [
              "\n",
              "  <div id=\"df-c71ffb2b-b0da-40a9-800f-c76c475b029a\">\n",
              "    <div class=\"colab-df-container\">\n",
              "      <div>\n",
              "<style scoped>\n",
              "    .dataframe tbody tr th:only-of-type {\n",
              "        vertical-align: middle;\n",
              "    }\n",
              "\n",
              "    .dataframe tbody tr th {\n",
              "        vertical-align: top;\n",
              "    }\n",
              "\n",
              "    .dataframe thead th {\n",
              "        text-align: right;\n",
              "    }\n",
              "</style>\n",
              "<table border=\"1\" class=\"dataframe\">\n",
              "  <thead>\n",
              "    <tr style=\"text-align: right;\">\n",
              "      <th></th>\n",
              "      <th>id</th>\n",
              "      <th>title</th>\n",
              "      <th>author</th>\n",
              "      <th>text</th>\n",
              "      <th>label</th>\n",
              "    </tr>\n",
              "  </thead>\n",
              "  <tbody>\n",
              "    <tr>\n",
              "      <th>0</th>\n",
              "      <td>0</td>\n",
              "      <td>House Dem Aide: We Didn’t Even See Comey’s Let...</td>\n",
              "      <td>Darrell Lucus</td>\n",
              "      <td>House Dem Aide: We Didn’t Even See Comey’s Let...</td>\n",
              "      <td>1</td>\n",
              "    </tr>\n",
              "    <tr>\n",
              "      <th>1</th>\n",
              "      <td>1</td>\n",
              "      <td>FLYNN: Hillary Clinton, Big Woman on Campus - ...</td>\n",
              "      <td>Daniel J. Flynn</td>\n",
              "      <td>Ever get the feeling your life circles the rou...</td>\n",
              "      <td>0</td>\n",
              "    </tr>\n",
              "    <tr>\n",
              "      <th>2</th>\n",
              "      <td>2</td>\n",
              "      <td>Why the Truth Might Get You Fired</td>\n",
              "      <td>Consortiumnews.com</td>\n",
              "      <td>Why the Truth Might Get You Fired October 29, ...</td>\n",
              "      <td>1</td>\n",
              "    </tr>\n",
              "    <tr>\n",
              "      <th>3</th>\n",
              "      <td>3</td>\n",
              "      <td>15 Civilians Killed In Single US Airstrike Hav...</td>\n",
              "      <td>Jessica Purkiss</td>\n",
              "      <td>Videos 15 Civilians Killed In Single US Airstr...</td>\n",
              "      <td>1</td>\n",
              "    </tr>\n",
              "    <tr>\n",
              "      <th>4</th>\n",
              "      <td>4</td>\n",
              "      <td>Iranian woman jailed for fictional unpublished...</td>\n",
              "      <td>Howard Portnoy</td>\n",
              "      <td>Print \\nAn Iranian woman has been sentenced to...</td>\n",
              "      <td>1</td>\n",
              "    </tr>\n",
              "  </tbody>\n",
              "</table>\n",
              "</div>\n",
              "      <button class=\"colab-df-convert\" onclick=\"convertToInteractive('df-c71ffb2b-b0da-40a9-800f-c76c475b029a')\"\n",
              "              title=\"Convert this dataframe to an interactive table.\"\n",
              "              style=\"display:none;\">\n",
              "        \n",
              "  <svg xmlns=\"http://www.w3.org/2000/svg\" height=\"24px\"viewBox=\"0 0 24 24\"\n",
              "       width=\"24px\">\n",
              "    <path d=\"M0 0h24v24H0V0z\" fill=\"none\"/>\n",
              "    <path d=\"M18.56 5.44l.94 2.06.94-2.06 2.06-.94-2.06-.94-.94-2.06-.94 2.06-2.06.94zm-11 1L8.5 8.5l.94-2.06 2.06-.94-2.06-.94L8.5 2.5l-.94 2.06-2.06.94zm10 10l.94 2.06.94-2.06 2.06-.94-2.06-.94-.94-2.06-.94 2.06-2.06.94z\"/><path d=\"M17.41 7.96l-1.37-1.37c-.4-.4-.92-.59-1.43-.59-.52 0-1.04.2-1.43.59L10.3 9.45l-7.72 7.72c-.78.78-.78 2.05 0 2.83L4 21.41c.39.39.9.59 1.41.59.51 0 1.02-.2 1.41-.59l7.78-7.78 2.81-2.81c.8-.78.8-2.07 0-2.86zM5.41 20L4 18.59l7.72-7.72 1.47 1.35L5.41 20z\"/>\n",
              "  </svg>\n",
              "      </button>\n",
              "      \n",
              "  <style>\n",
              "    .colab-df-container {\n",
              "      display:flex;\n",
              "      flex-wrap:wrap;\n",
              "      gap: 12px;\n",
              "    }\n",
              "\n",
              "    .colab-df-convert {\n",
              "      background-color: #E8F0FE;\n",
              "      border: none;\n",
              "      border-radius: 50%;\n",
              "      cursor: pointer;\n",
              "      display: none;\n",
              "      fill: #1967D2;\n",
              "      height: 32px;\n",
              "      padding: 0 0 0 0;\n",
              "      width: 32px;\n",
              "    }\n",
              "\n",
              "    .colab-df-convert:hover {\n",
              "      background-color: #E2EBFA;\n",
              "      box-shadow: 0px 1px 2px rgba(60, 64, 67, 0.3), 0px 1px 3px 1px rgba(60, 64, 67, 0.15);\n",
              "      fill: #174EA6;\n",
              "    }\n",
              "\n",
              "    [theme=dark] .colab-df-convert {\n",
              "      background-color: #3B4455;\n",
              "      fill: #D2E3FC;\n",
              "    }\n",
              "\n",
              "    [theme=dark] .colab-df-convert:hover {\n",
              "      background-color: #434B5C;\n",
              "      box-shadow: 0px 1px 3px 1px rgba(0, 0, 0, 0.15);\n",
              "      filter: drop-shadow(0px 1px 2px rgba(0, 0, 0, 0.3));\n",
              "      fill: #FFFFFF;\n",
              "    }\n",
              "  </style>\n",
              "\n",
              "      <script>\n",
              "        const buttonEl =\n",
              "          document.querySelector('#df-c71ffb2b-b0da-40a9-800f-c76c475b029a button.colab-df-convert');\n",
              "        buttonEl.style.display =\n",
              "          google.colab.kernel.accessAllowed ? 'block' : 'none';\n",
              "\n",
              "        async function convertToInteractive(key) {\n",
              "          const element = document.querySelector('#df-c71ffb2b-b0da-40a9-800f-c76c475b029a');\n",
              "          const dataTable =\n",
              "            await google.colab.kernel.invokeFunction('convertToInteractive',\n",
              "                                                     [key], {});\n",
              "          if (!dataTable) return;\n",
              "\n",
              "          const docLinkHtml = 'Like what you see? Visit the ' +\n",
              "            '<a target=\"_blank\" href=https://colab.research.google.com/notebooks/data_table.ipynb>data table notebook</a>'\n",
              "            + ' to learn more about interactive tables.';\n",
              "          element.innerHTML = '';\n",
              "          dataTable['output_type'] = 'display_data';\n",
              "          await google.colab.output.renderOutput(dataTable, element);\n",
              "          const docLink = document.createElement('div');\n",
              "          docLink.innerHTML = docLinkHtml;\n",
              "          element.appendChild(docLink);\n",
              "        }\n",
              "      </script>\n",
              "    </div>\n",
              "  </div>\n",
              "  "
            ]
          },
          "metadata": {},
          "execution_count": 4
        }
      ]
    },
    {
      "cell_type": "markdown",
      "metadata": {
        "id": "vQCBix5NP6JG"
      },
      "source": [
        "### <font color='#badc58'>Let's take a look at the dataset.</font>  <br/> \n",
        "---\n"
      ]
    },
    {
      "cell_type": "code",
      "metadata": {
        "id": "5J44IY4ysxFm",
        "colab": {
          "base_uri": "https://localhost:8080/",
          "height": 35
        },
        "outputId": "040eb182-f776-442a-c7d5-b9d458beb09a"
      },
      "source": [
        "df['title'][0]"
      ],
      "execution_count": 5,
      "outputs": [
        {
          "output_type": "execute_result",
          "data": {
            "text/plain": [
              "'House Dem Aide: We Didn’t Even See Comey’s Letter Until Jason Chaffetz Tweeted It'"
            ],
            "application/vnd.google.colaboratory.intrinsic+json": {
              "type": "string"
            }
          },
          "metadata": {},
          "execution_count": 5
        }
      ]
    },
    {
      "cell_type": "code",
      "metadata": {
        "colab": {
          "base_uri": "https://localhost:8080/"
        },
        "id": "BuYOLtQhK1t2",
        "outputId": "9108576f-a430-4d66-fa68-186f5bf2c19d"
      },
      "source": [
        "df['label'][100]"
      ],
      "execution_count": 6,
      "outputs": [
        {
          "output_type": "execute_result",
          "data": {
            "text/plain": [
              "1"
            ]
          },
          "metadata": {},
          "execution_count": 6
        }
      ]
    },
    {
      "cell_type": "code",
      "metadata": {
        "id": "enNGZpN3tQlr",
        "colab": {
          "base_uri": "https://localhost:8080/"
        },
        "outputId": "2ddbab05-e80f-4127-dd7c-6e76750b8fdc"
      },
      "source": [
        "df.shape"
      ],
      "execution_count": 7,
      "outputs": [
        {
          "output_type": "execute_result",
          "data": {
            "text/plain": [
              "(20800, 5)"
            ]
          },
          "metadata": {},
          "execution_count": 7
        }
      ]
    },
    {
      "cell_type": "code",
      "metadata": {
        "id": "SP7hSoXitwdp",
        "colab": {
          "base_uri": "https://localhost:8080/"
        },
        "outputId": "e49516e0-3573-4df3-a164-d0e5e14c13ba"
      },
      "source": [
        "df.isnull().sum()"
      ],
      "execution_count": 8,
      "outputs": [
        {
          "output_type": "execute_result",
          "data": {
            "text/plain": [
              "id           0\n",
              "title      558\n",
              "author    1957\n",
              "text        39\n",
              "label        0\n",
              "dtype: int64"
            ]
          },
          "metadata": {},
          "execution_count": 8
        }
      ]
    },
    {
      "cell_type": "markdown",
      "metadata": {
        "id": "70rT6LLRNZg3"
      },
      "source": [
        "<font color='#badc58'>drop missing data</font>  <br/> "
      ]
    },
    {
      "cell_type": "code",
      "metadata": {
        "id": "UaLGCTkrt4YK",
        "colab": {
          "base_uri": "https://localhost:8080/"
        },
        "outputId": "b3d86378-81b1-43f9-8cd1-953ab6884384"
      },
      "source": [
        "df = df.dropna(subset=['title','text'])\n",
        "df.isnull().sum()"
      ],
      "execution_count": 10,
      "outputs": [
        {
          "output_type": "execute_result",
          "data": {
            "text/plain": [
              "id           0\n",
              "title        0\n",
              "author    1918\n",
              "text         0\n",
              "label        0\n",
              "dtype: int64"
            ]
          },
          "metadata": {},
          "execution_count": 10
        }
      ]
    },
    {
      "cell_type": "markdown",
      "metadata": {
        "id": "RCBbMbCcNahk"
      },
      "source": [
        "<font color='#badc58'>Preparing to create the model\n"
      ]
    },
    {
      "cell_type": "code",
      "metadata": {
        "id": "8k6_ggj6xELb"
      },
      "source": [
        "x = df.drop(columns='label')\n",
        "y = df['label']"
      ],
      "execution_count": 13,
      "outputs": []
    },
    {
      "cell_type": "code",
      "metadata": {
        "id": "QDfv2tzH_9Ce",
        "colab": {
          "base_uri": "https://localhost:8080/"
        },
        "outputId": "846dc960-9b22-4e9f-9214-42182db7a1e4"
      },
      "source": [
        "x.shape, y.shape #array dimensions "
      ],
      "execution_count": 12,
      "outputs": [
        {
          "output_type": "execute_result",
          "data": {
            "text/plain": [
              "((20203, 4), (20203,))"
            ]
          },
          "metadata": {},
          "execution_count": 12
        }
      ]
    },
    {
      "cell_type": "markdown",
      "metadata": {
        "id": "pK-mHTgeNyzz"
      },
      "source": [
        "<font color='#7ed6df'>Data Preprocessing"
      ]
    },
    {
      "cell_type": "code",
      "metadata": {
        "id": "OsdRmr8nKDUV"
      },
      "source": [
        "#create shallow copy - create a new object\n",
        "copy = x.copy()\n",
        "#copies the reference of nested objects\n",
        "copy.reset_index(inplace=True)"
      ],
      "execution_count": 14,
      "outputs": []
    },
    {
      "cell_type": "code",
      "source": [
        "import nltk\n",
        "nltk.download('omw-1.4')"
      ],
      "metadata": {
        "colab": {
          "base_uri": "https://localhost:8080/"
        },
        "id": "XZV0-t1fp0JL",
        "outputId": "3d27bf88-1b2f-4284-d8d4-1e6b82bd4737"
      },
      "execution_count": 16,
      "outputs": [
        {
          "output_type": "stream",
          "name": "stderr",
          "text": [
            "[nltk_data] Downloading package omw-1.4 to /root/nltk_data...\n"
          ]
        },
        {
          "output_type": "execute_result",
          "data": {
            "text/plain": [
              "True"
            ]
          },
          "metadata": {},
          "execution_count": 16
        }
      ]
    },
    {
      "cell_type": "code",
      "metadata": {
        "id": "RJi1ppAyHVT7"
      },
      "source": [
        "ws = WordNetLemmatizer()\n",
        "list_titles = []\n",
        "for i in range(0, len(copy)):\n",
        "  #print(i)#print copy['title' - i]\n",
        "  headline = re.sub('[^a-zA-Z]', ' ', copy['title'][i])\n",
        "  #matching the text string for any lower case letter or uppercase \n",
        "  #when the ^ is on the inside of [], itmatches any character that does not appear inside []\n",
        "  #when ^ is on the outside of the []; i tmatches the beginning of the line/string - title \n",
        "  headline = headline.lower()\n",
        "  headline = headline.split()\n",
        "  headline = [ws.lemmatize(word) for word in headline if word not in stopwords.words(\"english\")]\n",
        "  headline = ' '.join(headline)\n",
        "  list_titles.append(headline) #adds a single item to the existing list"
      ],
      "execution_count": 17,
      "outputs": []
    },
    {
      "cell_type": "code",
      "metadata": {
        "id": "I5PkFDUfxgWv",
        "colab": {
          "base_uri": "https://localhost:8080/"
        },
        "outputId": "b5fa6b52-02b1-4f94-a714-73ed4ae8f8b9"
      },
      "source": [
        "list_titles[:4]"
      ],
      "execution_count": 18,
      "outputs": [
        {
          "output_type": "execute_result",
          "data": {
            "text/plain": [
              "['house dem aide even see comey letter jason chaffetz tweeted',\n",
              " 'flynn hillary clinton big woman campus breitbart',\n",
              " 'truth might get fired',\n",
              " 'civilian killed single u airstrike identified']"
            ]
          },
          "metadata": {},
          "execution_count": 18
        }
      ]
    },
    {
      "cell_type": "markdown",
      "metadata": {
        "id": "yraYhSMFP-h3"
      },
      "source": [
        "<font color='#f9ca24'>Keras<font color='#7ed6df'> provide the function <font color='#f9ca24'>one_hot</font> to efficiently encode each word in the titles as an interger.<br>This must be done prior to Word Embedding<br><font color='#7ed6df'>Index of words located in the Dictionary"
      ]
    },
    {
      "cell_type": "code",
      "metadata": {
        "id": "3E1urI4y37Oo",
        "colab": {
          "base_uri": "https://localhost:8080/"
        },
        "outputId": "e39b56b6-2436-4b6b-a570-9dfd90869eef"
      },
      "source": [
        "vocab = 10000\n",
        "hot_title = [one_hot(i, vocab) for i in list_titles]\n",
        "hot_title[:4]"
      ],
      "execution_count": 28,
      "outputs": [
        {
          "output_type": "execute_result",
          "data": {
            "text/plain": [
              "[[5016, 4753, 6027, 8297, 3110, 9130, 427, 6994, 7890, 87],\n",
              " [5936, 8526, 4978, 7925, 7896, 5969, 2734],\n",
              " [6098, 1202, 9817, 4261],\n",
              " [6809, 6345, 8952, 8609, 8309, 4507]]"
            ]
          },
          "metadata": {},
          "execution_count": 28
        }
      ]
    },
    {
      "cell_type": "markdown",
      "metadata": {
        "id": "GjlAGDTla0fJ"
      },
      "source": [
        "<font color='#7ed6df'>Longest sentence<br>"
      ]
    },
    {
      "cell_type": "code",
      "metadata": {
        "id": "m1slLzoya1O5",
        "colab": {
          "base_uri": "https://localhost:8080/"
        },
        "outputId": "bb8cdf6c-ca7a-43b8-84f9-57fdd611cf71"
      },
      "source": [
        "longest = len(max(list_titles, key = len))\n",
        "longest"
      ],
      "execution_count": 29,
      "outputs": [
        {
          "output_type": "execute_result",
          "data": {
            "text/plain": [
              "356"
            ]
          },
          "metadata": {},
          "execution_count": 29
        }
      ]
    },
    {
      "cell_type": "markdown",
      "metadata": {
        "id": "d4qw6zMMRstV"
      },
      "source": [
        "<font color='#7ed6df'>Making every sentence of the data of Same Length<br> <font color='#f9ca24'>pad_sequences </font>is used to ensure that all sequences in a list have the same length. By default this is done by padding 0 in the beginning of each sequence until each sequence has the same length as the longest sequence"
      ]
    },
    {
      "cell_type": "code",
      "metadata": {
        "id": "oHPI-B7zRDWk",
        "colab": {
          "base_uri": "https://localhost:8080/"
        },
        "outputId": "3ad21890-1865-4693-ca3e-47c6d9476e84"
      },
      "source": [
        "max_length = 356\n",
        "embed_input = pad_sequences(hot_title, maxlen = max_length, padding='pre')\n",
        "print(embed_input)"
      ],
      "execution_count": 30,
      "outputs": [
        {
          "output_type": "stream",
          "name": "stdout",
          "text": [
            "[[   0    0    0 ... 6994 7890   87]\n",
            " [   0    0    0 ... 7896 5969 2734]\n",
            " [   0    0    0 ... 1202 9817 4261]\n",
            " ...\n",
            " [   0    0    0 ... 7313 9391 3607]\n",
            " [   0    0    0 ...  730 6046 5171]\n",
            " [   0    0    0 ... 6998 9821 5618]]\n"
          ]
        }
      ]
    },
    {
      "cell_type": "markdown",
      "metadata": {
        "id": "2ByVXLgOmRt3"
      },
      "source": [
        "<font color='#7ed6df'>Arguments: <br>\n",
        "<font color='#f9ca24'>sequences </font>\t\n",
        "List of lists where each element is a sequence<br>\n",
        "<font color='#f9ca24'>maxlen </font>\t\t\n",
        "int, maximum length of all sequences\n",
        "\n",
        "<font color='#f9ca24'>dtype </font>\t<font color='#7ed6df'>\t\n",
        "type of the output sequences\n",
        "\n",
        "<font color='#f9ca24'>padding </font><font color='#7ed6df'>\n",
        "'pre' or 'post', pad either before or after each sequence.\n",
        "\n"
      ]
    },
    {
      "cell_type": "markdown",
      "metadata": {
        "id": "BvXIs9mHfVJO"
      },
      "source": [
        "<font color='#7ed6df'>Input shape<br>2D tensor with shape: (batch_size, input_length)."
      ]
    },
    {
      "cell_type": "markdown",
      "metadata": {
        "id": "QvXhLbg-Rz0r"
      },
      "source": [
        "<font color='#f9ca24'>Creating the Model"
      ]
    },
    {
      "cell_type": "code",
      "metadata": {
        "id": "8Sll9PjfR7Ek",
        "colab": {
          "base_uri": "https://localhost:8080/"
        },
        "outputId": "f900edc5-a3f5-4a93-bc39-4587a2c89036"
      },
      "source": [
        "model = Sequential() #creating the sequential model incrementally vi the add() method\n",
        "model.add(Embedding(input_dim=vocab, output_dim= 40, input_length=356))\n",
        "model.add(LSTM(150))\n",
        "model.add(Dense(1, activation='sigmoid'))#sigmoid returns a value close to zero\n",
        "#config the model with losses and metrics - compile()\n",
        "model.compile(loss = 'binary_crossentropy', optimizer = 'adam', metrics=['accuracy'])\n",
        "print(model.summary())"
      ],
      "execution_count": 31,
      "outputs": [
        {
          "output_type": "stream",
          "name": "stdout",
          "text": [
            "Model: \"sequential\"\n",
            "_________________________________________________________________\n",
            " Layer (type)                Output Shape              Param #   \n",
            "=================================================================\n",
            " embedding (Embedding)       (None, 356, 40)           400000    \n",
            "                                                                 \n",
            " lstm (LSTM)                 (None, 150)               114600    \n",
            "                                                                 \n",
            " dense (Dense)               (None, 1)                 151       \n",
            "                                                                 \n",
            "=================================================================\n",
            "Total params: 514,751\n",
            "Trainable params: 514,751\n",
            "Non-trainable params: 0\n",
            "_________________________________________________________________\n",
            "None\n"
          ]
        }
      ]
    },
    {
      "cell_type": "markdown",
      "metadata": {
        "id": "4eqSTAsPb56b"
      },
      "source": [
        "<font color='#7ed6df'>sequence()a plain stack of layers where each layer has exactly one input tensor and one output tensor<br>create a Sequential model incrementally via the add() method<br>the input of the LSTM is always a 3D array\n",
        "(batch_size, time_steps, units)<br>\n",
        "The output of the LSTM could be a 2D array or 3D array depending upon the return_sequences argument.\n",
        "If return_sequence is False, the output is a 2D array. (batch_size, units)\n",
        "If return_sequence is True, the output is a 3D array. (batch_size, time_steps, units)<br> in this case; the return_sequence is false - this is the default, therefore - 2D LSTM output\n",
        "\n",
        "3D tensor with shape: (batch_size, input_length, output_dim).\n",
        "alteration in shape, flattening and then re-shaping\n"
      ]
    },
    {
      "cell_type": "markdown",
      "metadata": {
        "id": "Gn_nm5VoSArv"
      },
      "source": [
        "<font color='#f9ca24'>Describe model"
      ]
    },
    {
      "cell_type": "code",
      "metadata": {
        "id": "APhSmNXqJKlE",
        "colab": {
          "base_uri": "https://localhost:8080/",
          "height": 369
        },
        "outputId": "640bb569-459f-45ff-cadb-e3b6d29d695a"
      },
      "source": [
        "plot_model(model)"
      ],
      "execution_count": 32,
      "outputs": [
        {
          "output_type": "execute_result",
          "data": {
            "image/png": "[encoded data removed]",
            "text/plain": [
              "<IPython.core.display.Image object>"
            ]
          },
          "metadata": {},
          "execution_count": 32
        }
      ]
    },
    {
      "cell_type": "code",
      "metadata": {
        "id": "U_n-Yuw7JbSW",
        "colab": {
          "base_uri": "https://localhost:8080/"
        },
        "outputId": "4c6f5229-45bc-4f8d-b256-f9c5570e5cb7"
      },
      "source": [
        "len(embed_input),y.shape"
      ],
      "execution_count": 33,
      "outputs": [
        {
          "output_type": "execute_result",
          "data": {
            "text/plain": [
              "(20203, (20203,))"
            ]
          },
          "metadata": {},
          "execution_count": 33
        }
      ]
    },
    {
      "cell_type": "code",
      "metadata": {
        "id": "wa1oIlpIJjMW",
        "colab": {
          "base_uri": "https://localhost:8080/"
        },
        "outputId": "dc6a0935-42be-44cd-da6d-8f0e489688d4"
      },
      "source": [
        "x_final = np.array(embed_input)\n",
        "y_final = np.array(y)\n",
        "x_final.shape, y_final.shape "
      ],
      "execution_count": 34,
      "outputs": [
        {
          "output_type": "execute_result",
          "data": {
            "text/plain": [
              "((20203, 356), (20203,))"
            ]
          },
          "metadata": {},
          "execution_count": 34
        }
      ]
    },
    {
      "cell_type": "code",
      "metadata": {
        "id": "lISGeQLlSD_w"
      },
      "source": [
        "from sklearn.model_selection import train_test_split \n",
        "x_train, x_test, y_train, y_test = train_test_split(x_final, y_final, test_size=0.33, random_state=42)"
      ],
      "execution_count": 35,
      "outputs": []
    },
    {
      "cell_type": "markdown",
      "metadata": {
        "id": "dHn8tv7Ifgqb"
      },
      "source": [
        "<font color='#7ed6df'>fitting the model"
      ]
    },
    {
      "cell_type": "code",
      "metadata": {
        "id": "-5JwUE7vJi0O",
        "colab": {
          "base_uri": "https://localhost:8080/"
        },
        "outputId": "d844ec76-928f-4c51-dca5-6af8cbd51f19"
      },
      "source": [
        "model.fit(x_train, y_train, validation_data=(x_test, y_test), epochs=10, batch_size=64) "
      ],
      "execution_count": 36,
      "outputs": [
        {
          "output_type": "stream",
          "name": "stdout",
          "text": [
            "Epoch 1/10\n",
            "212/212 [==============================] - 12s 29ms/step - loss: 0.3079 - accuracy: 0.8650 - val_loss: 0.1804 - val_accuracy: 0.9244\n",
            "Epoch 2/10\n",
            "212/212 [==============================] - 6s 27ms/step - loss: 0.1147 - accuracy: 0.9574 - val_loss: 0.1824 - val_accuracy: 0.9309\n",
            "Epoch 3/10\n",
            "212/212 [==============================] - 6s 31ms/step - loss: 0.0838 - accuracy: 0.9710 - val_loss: 0.2187 - val_accuracy: 0.9159\n",
            "Epoch 4/10\n",
            "212/212 [==============================] - 6s 27ms/step - loss: 0.0559 - accuracy: 0.9808 - val_loss: 0.2613 - val_accuracy: 0.9072\n",
            "Epoch 5/10\n",
            "212/212 [==============================] - 6s 27ms/step - loss: 0.0239 - accuracy: 0.9929 - val_loss: 0.2961 - val_accuracy: 0.9147\n",
            "Epoch 6/10\n",
            "212/212 [==============================] - 6s 26ms/step - loss: 0.0092 - accuracy: 0.9978 - val_loss: 0.3715 - val_accuracy: 0.9204\n",
            "Epoch 7/10\n",
            "212/212 [==============================] - 6s 27ms/step - loss: 0.0256 - accuracy: 0.9922 - val_loss: 0.3325 - val_accuracy: 0.9145\n",
            "Epoch 8/10\n",
            "212/212 [==============================] - 6s 26ms/step - loss: 0.0060 - accuracy: 0.9987 - val_loss: 0.3936 - val_accuracy: 0.9142\n",
            "Epoch 9/10\n",
            "212/212 [==============================] - 6s 26ms/step - loss: 0.0014 - accuracy: 0.9999 - val_loss: 0.4530 - val_accuracy: 0.9162\n",
            "Epoch 10/10\n",
            "212/212 [==============================] - 6s 26ms/step - loss: 5.8784e-04 - accuracy: 1.0000 - val_loss: 0.4913 - val_accuracy: 0.9177\n"
          ]
        },
        {
          "output_type": "execute_result",
          "data": {
            "text/plain": [
              "<keras.callbacks.History at 0x7f9f20370bb0>"
            ]
          },
          "metadata": {},
          "execution_count": 36
        }
      ]
    },
    {
      "cell_type": "code",
      "metadata": {
        "id": "eSiMBfeMKFta"
      },
      "source": [],
      "execution_count": null,
      "outputs": []
    },
    {
      "cell_type": "markdown",
      "metadata": {
        "id": "Kqo70bV0Ka5W"
      },
      "source": [
        "<font color='#7ed6df'>Describe performance of classificaiton model <br>tweak to make sure that 'acc' and 'val_acc' and final 'accuracy' are more closer to each other. It is normal for validation accuracy to be lower than accuracy. But ideally, these values should be kept similar range. If validation accuracy is much lower than accuracy, be cautious of over fitting<br>acc' refers to accuracy of what was trained against. <br>'val_acc' refers to validation set. Note that val_acc refers to a set of samples that was not shown to the network during training and hence refers to how much your model works in general for cases outside the training set."
      ]
    },
    {
      "cell_type": "code",
      "metadata": {
        "id": "Nvk7CylVKkGh",
        "colab": {
          "base_uri": "https://localhost:8080/"
        },
        "outputId": "51ff123c-70bd-4dd0-aec5-92dbfbdca579"
      },
      "source": [
        "#y_pred = model.predict_classes(x_test)\n",
        "y_pred = (model.predict(x_test) > 0.5).astype(\"int32\")\n",
        "\n",
        "#predictions = (model.predict(x_test) > 0.5).astype(\"int32\")"
      ],
      "execution_count": 45,
      "outputs": [
        {
          "output_type": "stream",
          "name": "stdout",
          "text": [
            "209/209 [==============================] - 2s 8ms/step\n"
          ]
        }
      ]
    },
    {
      "cell_type": "code",
      "metadata": {
        "id": "hDCp5CUcKKdl",
        "colab": {
          "base_uri": "https://localhost:8080/"
        },
        "outputId": "0ffe664f-854b-4138-bff3-611c65b46363"
      },
      "source": [
        "from sklearn.metrics import accuracy_score\n",
        "accuracy_score(y_test, y_pred)"
      ],
      "execution_count": 46,
      "outputs": [
        {
          "output_type": "execute_result",
          "data": {
            "text/plain": [
              "0.9176541172941353"
            ]
          },
          "metadata": {},
          "execution_count": 46
        }
      ]
    },
    {
      "cell_type": "markdown",
      "metadata": {
        "id": "xay-VsxfSLCU"
      },
      "source": [
        "<font color='#7ed6df'>Evaluate Performance with Classification Report"
      ]
    },
    {
      "cell_type": "code",
      "metadata": {
        "id": "-5_KHq_jSJ_f",
        "colab": {
          "base_uri": "https://localhost:8080/"
        },
        "outputId": "200dd3f3-811e-4b14-b4ee-1bd7c32a3e5d"
      },
      "source": [
        " from sklearn.metrics import confusion_matrix\n",
        " confusion_matrix(y_test, y_pred)"
      ],
      "execution_count": 47,
      "outputs": [
        {
          "output_type": "execute_result",
          "data": {
            "text/plain": [
              "array([[3111,  309],\n",
              "       [ 240, 3007]])"
            ]
          },
          "metadata": {},
          "execution_count": 47
        }
      ]
    },
    {
      "cell_type": "code",
      "metadata": {
        "id": "vQXEbQ4ZSR9B",
        "colab": {
          "base_uri": "https://localhost:8080/"
        },
        "outputId": "553528e3-d6f0-4e41-f356-11f94d6cb9fe"
      },
      "source": [
        "model.evaluate(embed_input, y)"
      ],
      "execution_count": 48,
      "outputs": [
        {
          "output_type": "stream",
          "name": "stdout",
          "text": [
            "632/632 [==============================] - 7s 10ms/step - loss: 0.1619 - accuracy: 0.9728\n"
          ]
        },
        {
          "output_type": "execute_result",
          "data": {
            "text/plain": [
              "[0.16187383234500885, 0.972825825214386]"
            ]
          },
          "metadata": {},
          "execution_count": 48
        }
      ]
    },
    {
      "cell_type": "code",
      "metadata": {
        "id": "p8w0BzSobXsN"
      },
      "source": [],
      "execution_count": null,
      "outputs": []
    }
  ]
}